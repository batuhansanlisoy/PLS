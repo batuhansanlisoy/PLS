{
 "cells": [
  {
   "cell_type": "markdown",
   "id": "f0f64f66-59c8-4679-9ee4-7f597f118e79",
   "metadata": {},
   "source": [
    "KISMİ EN KÜÇÜK KARELER REGRESYONU\n",
    "\n",
    "pcr benziyor\n",
    "çok boyutlu projelerde kullanılıbilir\n",
    "ne farkı var \n"
   ]
  },
  {
   "cell_type": "code",
   "execution_count": 8,
   "id": "80b61be7-03a2-4ae3-8158-a2bc051b5a06",
   "metadata": {},
   "outputs": [],
   "source": [
    "import pandas as pd\n",
    "import numpy as np \n",
    "from sklearn.metrics import mean_squared_error\n",
    "from sklearn.linear_model import LinearRegression\n",
    "from sklearn.model_selection import train_test_split"
   ]
  },
  {
   "cell_type": "code",
   "execution_count": 9,
   "id": "c030f150-5ac7-474b-919f-539697c04794",
   "metadata": {},
   "outputs": [],
   "source": [
    "df=pd.read_csv(\"Hitters.csv\")\n",
    "df=df.dropna()\n",
    "dms=pd.get_dummies(df[[\"League\",\"Division\",\"NewLeague\"]])\n",
    "y=df.Salary\n",
    "X_=df.drop([\"Salary\",\"League\",\"Division\",\"NewLeague\"],axis=1).astype(\"float32\")\n",
    "X=pd.concat([X_,dms[[\"League_N\",\"Division_W\",\"NewLeague_N\"]]],axis=1)                \n",
    "X_train,X_test,y_train,y_test=train_test_split(X,y,test_size=.25,random_state=42)\n"
   ]
  },
  {
   "cell_type": "code",
   "execution_count": 10,
   "id": "0ff24bdb-2493-43aa-b31a-0f660198a2d4",
   "metadata": {},
   "outputs": [],
   "source": [
    "from sklearn.cross_decomposition import PLSRegression,PLSSVD"
   ]
  },
  {
   "cell_type": "code",
   "execution_count": 11,
   "id": "15550317-3467-460c-891b-a2f2b1075a2d",
   "metadata": {},
   "outputs": [],
   "source": [
    "pls_model=PLSRegression(n_components=2).fit(X_train,y_train)"
   ]
  },
  {
   "cell_type": "code",
   "execution_count": 12,
   "id": "7b53be0e-a447-4fa5-ad37-eb908f8a39ef",
   "metadata": {},
   "outputs": [
    {
     "name": "stderr",
     "output_type": "stream",
     "text": [
      "C:\\Users\\user\\anaconda3\\envs\\tensor\\lib\\site-packages\\sklearn\\cross_decomposition\\_pls.py:503: FutureWarning: The attribute `coef_` will be transposed in version 1.3 to be consistent with other linear models in scikit-learn. Currently, `coef_` has a shape of (n_features, n_targets) and in the future it will have a shape of (n_targets, n_features).\n",
      "  warnings.warn(\n"
     ]
    },
    {
     "data": {
      "text/plain": [
       "array([[ 35.32916493],\n",
       "       [ 48.83425857],\n",
       "       [ 18.50240933],\n",
       "       [ 39.28117603],\n",
       "       [ 30.59952998],\n",
       "       [ 40.03398345],\n",
       "       [ 16.85990516],\n",
       "       [ 28.22289896],\n",
       "       [ 32.73784993],\n",
       "       [ 22.00875744],\n",
       "       [ 33.60903032],\n",
       "       [ 30.39402522],\n",
       "       [ 25.73279799],\n",
       "       [ 54.98835148],\n",
       "       [  6.56590871],\n",
       "       [ -0.90894359],\n",
       "       [ 17.60903423],\n",
       "       [-37.24246339],\n",
       "       [ 14.69680385]])"
      ]
     },
     "execution_count": 12,
     "metadata": {},
     "output_type": "execute_result"
    }
   ],
   "source": [
    "pls_model.coef_"
   ]
  },
  {
   "cell_type": "code",
   "execution_count": 26,
   "id": "bf0c92df-b44d-4f9c-a7ff-3b4dcc30b520",
   "metadata": {},
   "outputs": [
    {
     "data": {
      "text/plain": [
       "183    125.0\n",
       "Name: Salary, dtype: float64"
      ]
     },
     "execution_count": 26,
     "metadata": {},
     "output_type": "execute_result"
    }
   ],
   "source": [
    "y_train[:1]"
   ]
  },
  {
   "cell_type": "code",
   "execution_count": 28,
   "id": "dc91b4ee-3928-4cf7-a940-dc4470ed3907",
   "metadata": {},
   "outputs": [
    {
     "data": {
      "text/plain": [
       "array([[ 344.91941675],\n",
       "       [ 848.87070829],\n",
       "       [ 692.93622641],\n",
       "       [ 185.56578014],\n",
       "       [ 435.49195955],\n",
       "       [ 987.49529232],\n",
       "       [ 120.63096991],\n",
       "       [ 289.92634166],\n",
       "       [ 663.41886999],\n",
       "       [ 817.90487366],\n",
       "       [1400.82155973],\n",
       "       [ 889.55177296],\n",
       "       [ 966.02942388],\n",
       "       [ 761.83859605],\n",
       "       [ 817.8721976 ],\n",
       "       [ 778.83233428],\n",
       "       [ 947.29337049],\n",
       "       [   2.76773513],\n",
       "       [ -72.48002311],\n",
       "       [ 382.9911773 ],\n",
       "       [ 596.85479633],\n",
       "       [ 977.61609482],\n",
       "       [ 415.33783836],\n",
       "       [ 464.78071993],\n",
       "       [ -26.62516381],\n",
       "       [ 722.22493084],\n",
       "       [ 494.50573366],\n",
       "       [ 242.23751463],\n",
       "       [ 206.92614915],\n",
       "       [ 232.56491078],\n",
       "       [  64.48242585],\n",
       "       [ 542.14513533],\n",
       "       [ 947.14732426],\n",
       "       [ 194.8958382 ],\n",
       "       [ 362.62023455],\n",
       "       [ 295.26950414],\n",
       "       [ 439.33441782],\n",
       "       [ 776.65786942],\n",
       "       [ 317.39738017],\n",
       "       [ 137.13822956],\n",
       "       [ 103.25963353],\n",
       "       [ 206.20369852],\n",
       "       [ 139.57105164],\n",
       "       [ 120.59250504],\n",
       "       [ 230.30590269],\n",
       "       [1104.22505514],\n",
       "       [ 640.35251182],\n",
       "       [ 482.26330598],\n",
       "       [ 338.69287564],\n",
       "       [ 275.48478667],\n",
       "       [ 443.09856842],\n",
       "       [ 576.77545181],\n",
       "       [ 530.92923396],\n",
       "       [ 537.95696598],\n",
       "       [ 827.0093267 ],\n",
       "       [ 504.9365377 ],\n",
       "       [ 363.82023845],\n",
       "       [ 876.99960998],\n",
       "       [ 356.8012987 ],\n",
       "       [1190.55931906],\n",
       "       [ 489.16389565],\n",
       "       [ 387.90993234],\n",
       "       [ 333.91410974],\n",
       "       [ 431.10113593],\n",
       "       [ 300.39075154],\n",
       "       [ 758.62087476],\n",
       "       [ 131.04608988],\n",
       "       [ 520.52219579],\n",
       "       [ 191.42056643],\n",
       "       [ 282.47606538],\n",
       "       [ 193.01156954],\n",
       "       [ 840.0840282 ],\n",
       "       [ 753.195276  ],\n",
       "       [ 743.7891631 ],\n",
       "       [1183.74115059],\n",
       "       [ 400.30437382],\n",
       "       [ 538.64140045],\n",
       "       [ 537.97462773],\n",
       "       [ 377.30735326],\n",
       "       [ 859.84521154],\n",
       "       [ 676.95220811],\n",
       "       [ 539.78005865],\n",
       "       [ 654.6104277 ],\n",
       "       [ 585.28159829],\n",
       "       [ 141.10256527],\n",
       "       [ 739.72520605],\n",
       "       [ 629.9593089 ],\n",
       "       [ 912.91829767],\n",
       "       [1096.94843447],\n",
       "       [ 675.58949986],\n",
       "       [ 389.27507296],\n",
       "       [ 126.18234415],\n",
       "       [1135.54328693],\n",
       "       [ 189.72952462],\n",
       "       [ 447.3487843 ],\n",
       "       [1205.60290026],\n",
       "       [ 942.20786011],\n",
       "       [ 504.3167074 ],\n",
       "       [ 823.62262019],\n",
       "       [ 728.0731489 ],\n",
       "       [ 599.83451644],\n",
       "       [ 170.12742868],\n",
       "       [ 627.02392564],\n",
       "       [1235.77220869],\n",
       "       [ 600.53824815],\n",
       "       [ 967.85772205],\n",
       "       [ 751.73087146],\n",
       "       [ 315.83907815],\n",
       "       [  40.2118584 ],\n",
       "       [ 656.51923059],\n",
       "       [ 693.59999767],\n",
       "       [ 521.10719677],\n",
       "       [ 368.06725657],\n",
       "       [ 672.66615806],\n",
       "       [ 520.88475255],\n",
       "       [ 426.42356671],\n",
       "       [ 945.09783804],\n",
       "       [ 867.06706967],\n",
       "       [ 403.29231673],\n",
       "       [ 270.9312759 ],\n",
       "       [ 645.60845497],\n",
       "       [ 648.90440155],\n",
       "       [1188.8798496 ],\n",
       "       [ 298.3391579 ],\n",
       "       [  42.27915573],\n",
       "       [ 376.97573203],\n",
       "       [1239.63066597],\n",
       "       [ 146.51149983],\n",
       "       [ 123.04845763],\n",
       "       [ 505.47951034],\n",
       "       [ 702.42542471],\n",
       "       [ 959.5011462 ],\n",
       "       [1239.10079545],\n",
       "       [ 776.87745948],\n",
       "       [ 789.23935564],\n",
       "       [ 298.65115498],\n",
       "       [ 823.65711089],\n",
       "       [ 367.43865625],\n",
       "       [ 179.95264672],\n",
       "       [ 829.5744636 ],\n",
       "       [ 103.00694892],\n",
       "       [ 501.81907651],\n",
       "       [ 396.999244  ],\n",
       "       [ 490.76603178],\n",
       "       [ 180.80303123],\n",
       "       [ 274.5529552 ],\n",
       "       [ 222.69186047],\n",
       "       [ 474.33940609],\n",
       "       [ 550.49815236],\n",
       "       [1393.23366802],\n",
       "       [ 360.8836982 ],\n",
       "       [  39.23244975],\n",
       "       [  49.20652337],\n",
       "       [ 149.43424988],\n",
       "       [ 830.79508809],\n",
       "       [ 203.05489675],\n",
       "       [1147.57610841],\n",
       "       [ 137.0771465 ],\n",
       "       [ 800.89191334],\n",
       "       [ 707.52323432],\n",
       "       [ 392.05240092],\n",
       "       [ 411.12407764],\n",
       "       [1020.23624685],\n",
       "       [ 117.75552963],\n",
       "       [ 579.30374528],\n",
       "       [ 761.91993328],\n",
       "       [ 311.53706034],\n",
       "       [ 183.07168807],\n",
       "       [ 718.64239879],\n",
       "       [ 630.78908007],\n",
       "       [ 645.78421544],\n",
       "       [ 245.93783279],\n",
       "       [ 733.19794217],\n",
       "       [ 805.20782863],\n",
       "       [ 282.51457731],\n",
       "       [ 237.11596161],\n",
       "       [ 613.03085699],\n",
       "       [ 682.56956784],\n",
       "       [ 712.5573133 ],\n",
       "       [ 975.11592834],\n",
       "       [ 360.84289792],\n",
       "       [ 471.06739369],\n",
       "       [  89.68526004],\n",
       "       [ 529.8682157 ],\n",
       "       [ 475.45746954],\n",
       "       [ 676.95590783],\n",
       "       [ 704.94903346],\n",
       "       [ 589.47128921],\n",
       "       [ 236.74078199],\n",
       "       [ 390.70412218],\n",
       "       [ 248.8295744 ],\n",
       "       [ 729.62298316],\n",
       "       [1280.21594258],\n",
       "       [1129.60331601],\n",
       "       [ 516.03035708],\n",
       "       [ 576.90716175],\n",
       "       [ 233.51115267]])"
      ]
     },
     "execution_count": 28,
     "metadata": {},
     "output_type": "execute_result"
    }
   ],
   "source": [
    "#PLS TAHMIN\n",
    "y_pred=pls_model.predict(X_train)\n"
   ]
  },
  {
   "cell_type": "code",
   "execution_count": 20,
   "id": "0ddd5173-adb8-4ca3-8791-ff66a1eb5d8f",
   "metadata": {},
   "outputs": [
    {
     "data": {
      "text/plain": [
       "310.11675891433265"
      ]
     },
     "execution_count": 20,
     "metadata": {},
     "output_type": "execute_result"
    }
   ],
   "source": [
    "np.sqrt(mean_squared_error(y_train,y_pred))"
   ]
  },
  {
   "cell_type": "code",
   "execution_count": 23,
   "id": "9877ea0e-c058-4abc-ad2d-be50b9dece2d",
   "metadata": {},
   "outputs": [
    {
     "data": {
      "text/plain": [
       "398.0995638069769"
      ]
     },
     "execution_count": 23,
     "metadata": {},
     "output_type": "execute_result"
    }
   ],
   "source": [
    "#egitim hatası\n",
    "y_pred=pls_model.predict(X_test)\n",
    "np.sqrt(mean_squared_error(y_test,y_pred))"
   ]
  },
  {
   "cell_type": "markdown",
   "id": "25e85c7d-58b8-4108-a101-d465cccab793",
   "metadata": {},
   "source": [
    "<font color=\"orange\"> MODEL TUNNING"
   ]
  },
  {
   "cell_type": "code",
   "execution_count": 31,
   "id": "5bf8b69b-8864-4559-bee8-26133f8c048f",
   "metadata": {},
   "outputs": [
    {
     "ename": "ImportError",
     "evalue": "cannot import name 'cross_val_score' from 'sklearn.metrics' (C:\\Users\\user\\anaconda3\\envs\\tensor\\lib\\site-packages\\sklearn\\metrics\\__init__.py)",
     "output_type": "error",
     "traceback": [
      "\u001b[1;31m---------------------------------------------------------------------------\u001b[0m",
      "\u001b[1;31mImportError\u001b[0m                               Traceback (most recent call last)",
      "Cell \u001b[1;32mIn[31], line 2\u001b[0m\n\u001b[0;32m      1\u001b[0m \u001b[38;5;28;01mfrom\u001b[39;00m \u001b[38;5;21;01msklearn\u001b[39;00m \u001b[38;5;28;01mimport\u001b[39;00m model_selection \n\u001b[1;32m----> 2\u001b[0m \u001b[38;5;28;01mfrom\u001b[39;00m \u001b[38;5;21;01msklearn\u001b[39;00m\u001b[38;5;21;01m.\u001b[39;00m\u001b[38;5;21;01mmetrics\u001b[39;00m \u001b[38;5;28;01mimport\u001b[39;00m cross_val_score\n",
      "\u001b[1;31mImportError\u001b[0m: cannot import name 'cross_val_score' from 'sklearn.metrics' (C:\\Users\\user\\anaconda3\\envs\\tensor\\lib\\site-packages\\sklearn\\metrics\\__init__.py)"
     ]
    }
   ],
   "source": [
    "from sklearn import model_selection \n",
    "from sklearn.metrics import cross_val_score"
   ]
  },
  {
   "cell_type": "code",
   "execution_count": 36,
   "id": "d8899e84-2ec4-4926-bbe6-42313f8de7a2",
   "metadata": {},
   "outputs": [
    {
     "data": {
      "image/png": "[encoded data removed]",
      "text/plain": [
       "<Figure size 640x480 with 1 Axes>"
      ]
     },
     "metadata": {},
     "output_type": "display_data"
    }
   ],
   "source": [
    "cv_10 = model_selection.KFold(n_splits=10, shuffle=True, random_state=1)\n",
    "\n",
    "\n",
    "#Hata hesaplamak için döngü\n",
    "RMSE = []\n",
    "\n",
    "for i in np.arange(1, X_train.shape[1] + 1):\n",
    "    pls = PLSRegression(n_components=i)\n",
    "    score = np.sqrt(-1*model_selection.cross_val_score(pls, X_train, y_train, cv=cv_10, scoring='neg_mean_squared_error').mean())\n",
    "    RMSE.append(score)\n",
    "\n",
    "#Sonuçların Görselleştirilmesi\n",
    "plt.plot(np.arange(1, X_train.shape[1] + 1), np.array(RMSE), '-v', c = \"b\")\n",
    "plt.xlabel('Bileşen Sayısı')\n",
    "plt.ylabel('RMSE')\n",
    "plt.title('Salary');"
   ]
  },
  {
   "cell_type": "code",
   "execution_count": 37,
   "id": "8d25d715-afa3-4a4c-910d-71a97547d743",
   "metadata": {},
   "outputs": [],
   "source": [
    "# en uygun deger yukarıdaki grafiğe göre 2 bileşendir yeniden 2 bileşene göre model kurmak daha mantıklıdır"
   ]
  },
  {
   "cell_type": "code",
   "execution_count": 51,
   "id": "fe129f39-508b-40e4-9a51-af91038f96f4",
   "metadata": {},
   "outputs": [],
   "source": [
    "model=PLSRegression(n_components=2).fit(X_train,y_train)"
   ]
  },
  {
   "cell_type": "code",
   "execution_count": 54,
   "id": "96577333-70c5-43dc-a1c0-fa49c061002c",
   "metadata": {},
   "outputs": [],
   "source": [
    "y_pred=model.predict(X_test) # test hatası"
   ]
  },
  {
   "cell_type": "code",
   "execution_count": 58,
   "id": "3c47830b-79b2-4304-af70-079bbc83882e",
   "metadata": {},
   "outputs": [],
   "source": [
    "rmse=np.sqrt(mean_squared_error(y_test,y_pred))"
   ]
  },
  {
   "cell_type": "code",
   "execution_count": 59,
   "id": "5dd4401c-7aba-403a-ab8f-7bc50676133c",
   "metadata": {},
   "outputs": [
    {
     "data": {
      "text/plain": [
       "398.0995638069769"
      ]
     },
     "execution_count": 59,
     "metadata": {},
     "output_type": "execute_result"
    }
   ],
   "source": [
    "rmse # test hatamız root mean squared error"
   ]
  },
  {
   "cell_type": "code",
   "execution_count": null,
   "id": "34b802c8-97c6-4259-8443-187b54d90697",
   "metadata": {},
   "outputs": [],
   "source": []
  },
  {
   "cell_type": "code",
   "execution_count": 2,
   "id": "f001395b-411c-4735-9e98-7d9117e813c1",
   "metadata": {},
   "outputs": [],
   "source": []
  },
  {
   "cell_type": "code",
   "execution_count": null,
   "id": "ec91de4c-90f2-4045-ad95-cd1a965d895e",
   "metadata": {},
   "outputs": [],
   "source": [
    "\n"
   ]
  },
  {
   "cell_type": "code",
   "execution_count": null,
   "id": "232cc8f4-7201-4153-b068-f84490e99d41",
   "metadata": {},
   "outputs": [],
   "source": []
  },
  {
   "cell_type": "code",
   "execution_count": null,
   "id": "85a97d07-1eb4-466a-8525-d44e390c7953",
   "metadata": {},
   "outputs": [],
   "source": []
  },
  {
   "cell_type": "code",
   "execution_count": null,
   "id": "fcacab54-435a-4831-b54d-7e8c6f6c3e3f",
   "metadata": {},
   "outputs": [],
   "source": []
  },
  {
   "cell_type": "code",
   "execution_count": null,
   "id": "0e07071c-4b9f-4618-bf9f-0d1ed4edf172",
   "metadata": {},
   "outputs": [],
   "source": []
  },
  {
   "cell_type": "code",
   "execution_count": null,
   "id": "f5fadb75-c319-417d-8b2a-c3ba9631c1b2",
   "metadata": {},
   "outputs": [],
   "source": []
  },
  {
   "cell_type": "code",
   "execution_count": null,
   "id": "908b7f59-81d5-45ae-ace4-9e84e943b121",
   "metadata": {},
   "outputs": [],
   "source": []
  }
 ],
 "metadata": {
  "kernelspec": {
   "display_name": "Python 3 (ipykernel)",
   "language": "python",
   "name": "python3"
  },
  "language_info": {
   "codemirror_mode": {
    "name": "ipython",
    "version": 3
   },
   "file_extension": ".py",
   "mimetype": "text/x-python",
   "name": "python",
   "nbconvert_exporter": "python",
   "pygments_lexer": "ipython3",
   "version": "3.9.7"
  }
 },
 "nbformat": 4,
 "nbformat_minor": 5
}
